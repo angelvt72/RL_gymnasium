{
 "cells": [
  {
   "cell_type": "markdown",
   "id": "ab39c32b",
   "metadata": {},
   "source": [
    "# Q-Learning - Blackjack\n",
    "\n",
    "*Proyecto RL 2024-2025*"
   ]
  },
  {
   "cell_type": "markdown",
   "id": "d97fe180",
   "metadata": {},
   "source": [
    "## 1. Importación de librerías y carga del entorno"
   ]
  },
  {
   "cell_type": "code",
   "execution_count": 69,
   "id": "7588c69f",
   "metadata": {},
   "outputs": [
    {
     "name": "stdout",
     "output_type": "stream",
     "text": [
      "Acciones: 2\n"
     ]
    }
   ],
   "source": [
    "import gymnasium as gym\n",
    "import numpy as np\n",
    "import matplotlib.pyplot as plt\n",
    "import random\n",
    "import utils\n",
    "\n",
    "# Crear el entorno de Blackjack\n",
    "env = gym.make(\"Blackjack-v1\", render_mode=None)  # para entrenamiento (sin render)\n",
    "n_actions = env.action_space.n\n",
    "print(\"Acciones:\", n_actions)"
   ]
  },
  {
   "cell_type": "code",
   "execution_count": 70,
   "id": "6b11127d",
   "metadata": {},
   "outputs": [],
   "source": [
    "# Establecer la semilla para random y numpy\n",
    "random.seed(42)  # Establece la semilla de random\n",
    "np.random.seed(42)  # Establece la semilla de numpy"
   ]
  },
  {
   "cell_type": "markdown",
   "id": "fc348b95",
   "metadata": {},
   "source": [
    "Tenemos dos posibles acciones: \"pedir\" o \"plantarse\". La acción de \"pedir\" se representa como 0 y la acción de \"plantarse\" como 1. El objetivo es maximizar la recompensa total a lo largo del tiempo.\n",
    "\n",
    "En nuestro caso tenemos que el **estado** se define como tupla **(suma_del_jugador, carta_visible_del_dealer, jugador_tiene_ases_y_usando_11)**. Las **acciones** son discretas y son dos: **0 (Stick (plantarse)) y 1 (Hit (pedir carta))**. La recompensa es 1 si el jugador gana, -1 si pierde y 0 si empata. El juego termina cuando el jugador se planta o se pasa de 21."
   ]
  },
  {
   "cell_type": "markdown",
   "id": "9cac0e68",
   "metadata": {},
   "source": [
    "Dado que hay 32 posibles sumas del jugador (4 a 21), 10 posibles cartas visibles del dealer (1 a 10), y 2 valores para el uso del As (0 o 1), podemos generar una tabla de dimensiones 32 x 10 x 2, donde cada elemento corresponde a una combinación de estos tres componentes.\n",
    "\n",
    "Por lo tanto, la tabla de Q-values tendrá una dimensión de 32 x 10 x 2 x 2 (el último 2 es por las dos posibles acciones)."
   ]
  },
  {
   "cell_type": "markdown",
   "id": "1680ecfa",
   "metadata": {},
   "source": [
    "## 2. Parámetros de Q-Learning"
   ]
  },
  {
   "cell_type": "code",
   "execution_count": 76,
   "id": "fe9c3266",
   "metadata": {},
   "outputs": [],
   "source": [
    "# Parámetros de Q-Learning\n",
    "gamma = 0.9  # Factor de descuento\n",
    "alpha = 0.1  # Tasa de aprendizaje\n",
    "episodes_train = 500_000  # Número de episodios para entrenar\n",
    "\n",
    "# Parámetros de decaimiento de epsilon\n",
    "epsilon_start = 1.0  # Valor inicial de epsilon\n",
    "epsilon_end = 0.05   # Valor final de epsilon\n",
    "epsilon_decay = 0.001  # Tasa de decaimiento (puedes ajustarlo)\n"
   ]
  },
  {
   "cell_type": "markdown",
   "id": "1edf688d",
   "metadata": {},
   "source": [
    "## 3. Funciones auxiliares"
   ]
  },
  {
   "cell_type": "code",
   "execution_count": 72,
   "id": "d60debd7",
   "metadata": {},
   "outputs": [],
   "source": [
    "def epsilon_greedy_policy(state, epsilon):\n",
    "    # Ajustamos el índice de la carta visible del dealer\n",
    "    dealer_card_index = state[1] - 1  # La carta visible del dealer es entre 1 y 10, por lo que restamos 1\n",
    "    \n",
    "    if random.uniform(0, 1) < epsilon:\n",
    "        # Exploración: seleccionamos una acción aleatoria\n",
    "        return random.choice(possible_actions)\n",
    "    else:\n",
    "        # Explotación: seleccionamos la acción con el mayor Q-value\n",
    "        return np.argmax(Q_values[state[0], dealer_card_index, state[2]])\n",
    "    \n",
    "def epsilon_schedule(episode, max_episodes):\n",
    "    # Decaimiento lineal\n",
    "    epsilon = epsilon_end + (epsilon_start - epsilon_end) * (1 - episode / max_episodes)\n",
    "    return max(epsilon, epsilon_end)  # Aseguramos que epsilon no baje de epsilon_end"
   ]
  },
  {
   "cell_type": "markdown",
   "id": "a2446489",
   "metadata": {},
   "source": [
    "## 4. Inicialización de la tabla de Q-values"
   ]
  },
  {
   "cell_type": "code",
   "execution_count": 73,
   "id": "cefbe983",
   "metadata": {},
   "outputs": [],
   "source": [
    "# Inicializamos la tabla de Q-values\n",
    "# Dimensiones: (32 sumas del jugador, 10 cartas del dealer, 2 valores para usable ace, 2 acciones)\n",
    "Q_values = np.zeros((32, 10, 2, 2))  # Inicializamos con ceros\n",
    "\n",
    "# Definimos las posibles acciones\n",
    "possible_actions = [0, 1]  # 0: Stick, 1: Hit"
   ]
  },
  {
   "cell_type": "markdown",
   "id": "b8d905c9",
   "metadata": {},
   "source": [
    "## 5. Entrenamiento de Q-learning"
   ]
  },
  {
   "cell_type": "code",
   "execution_count": 77,
   "id": "7442074e",
   "metadata": {},
   "outputs": [
    {
     "name": "stdout",
     "output_type": "stream",
     "text": [
      "Retorno medio final: -0.23953\n",
      "Porcentaje de victorias: 35.0576%\n"
     ]
    }
   ],
   "source": [
    "# Entrenamiento de Q-Learning\n",
    "history = []  # Para almacenar el progreso\n",
    "victories = 0  # Contador de victorias\n",
    "total_rewards = 0  # Acumulador de recompensas\n",
    "\n",
    "for episode in range(episodes_train):\n",
    "    epsilon = epsilon_schedule(episode, episodes_train)  # Calculamos epsilon para el episodio actual\n",
    "\n",
    "    state, _ = env.reset()  # Reseteamos el entorno para cada episodio\n",
    "    done = False\n",
    "    total_reward = 0\n",
    "\n",
    "    while not done:\n",
    "        # Ajustamos el índice de la carta visible del dealer\n",
    "        dealer_card_index = state[1] - 1  # Restamos 1 para ajustar el índice\n",
    "        \n",
    "        # Aseguramos que la suma del jugador esté dentro del rango de 0 a 31\n",
    "        player_sum_index = state[0] - 4  # La suma del jugador va de 4 a 21, lo mapeamos a 0 a 31\n",
    "\n",
    "        # Elegimos una acción según la política epsilon-greedy\n",
    "        action = epsilon_greedy_policy(state, epsilon)\n",
    "\n",
    "        # Tomamos una acción en el entorno\n",
    "        next_state, reward, terminated, truncated, info = env.step(action)\n",
    "\n",
    "        # Ajustamos los índices para el siguiente estado\n",
    "        next_dealer_card_index = next_state[1] - 1\n",
    "        next_player_sum_index = next_state[0] - 4\n",
    "\n",
    "        # Actualizamos Q-values usando la fórmula de Q-Learning\n",
    "        old_q_value = Q_values[player_sum_index, dealer_card_index, state[2], action]\n",
    "        future_q_value = np.max(Q_values[next_player_sum_index, next_dealer_card_index, next_state[2]])\n",
    "\n",
    "        # Actualización de Q-value\n",
    "        Q_values[player_sum_index, dealer_card_index, state[2], action] = old_q_value + alpha * (reward + gamma * future_q_value - old_q_value)\n",
    "\n",
    "        # Avanzamos al siguiente estado\n",
    "        state = next_state\n",
    "        total_reward += reward\n",
    "\n",
    "        if terminated or truncated:\n",
    "            done = True\n",
    "\n",
    "    # Guardamos el total de recompensas acumuladas\n",
    "    total_rewards += total_reward\n",
    "\n",
    "    # Guardamos el retorno medio hasta el episodio actual\n",
    "    average_return = total_rewards / (episode + 1)\n",
    "    history.append(average_return)\n",
    "\n",
    "    # Contar victorias\n",
    "    if total_reward == 1:\n",
    "        victories += 1\n",
    "\n",
    "# # Mostrar el Q-values final\n",
    "# print(\"Q-values final:\")\n",
    "# print(Q_values)\n",
    "\n",
    "# # Ver la política óptima\n",
    "# optimal_policy = np.argmax(Q_values, axis=3)\n",
    "# print(\"Política óptima (0: Stick, 1: Hit):\")\n",
    "# print(optimal_policy)\n",
    "\n",
    "# Al final del entrenamiento, calculamos el porcentaje de victorias\n",
    "victory_percentage = (victories / episodes_train) * 100\n",
    "\n",
    "# Imprimir las métricas finales\n",
    "print(f\"Retorno medio final: {average_return}\")\n",
    "print(f\"Porcentaje de victorias: {victory_percentage}%\")"
   ]
  },
  {
   "cell_type": "markdown",
   "id": "332f2abc",
   "metadata": {},
   "source": [
    "## 5. Curvas de aprendizaje"
   ]
  },
  {
   "cell_type": "code",
   "execution_count": 75,
   "id": "85cec82d",
   "metadata": {},
   "outputs": [
    {
     "data": {
      "image/png": "[encoded data removed]",
      "text/plain": [
       "<Figure size 640x480 with 1 Axes>"
      ]
     },
     "metadata": {},
     "output_type": "display_data"
    }
   ],
   "source": [
    "# Suavizado del retorno medio con una ventana de tamaño `window`\n",
    "window = 5000\n",
    "plt.figure()\n",
    "\n",
    "cumsum = np.cumsum(history)\n",
    "smoothed = (cumsum[window:] - cumsum[:-window]) / window  # Promedio móvil\n",
    "\n",
    "plt.plot(smoothed, label=\"Q-Learning\")\n",
    "plt.xlabel('Episodios')\n",
    "plt.ylabel('Retorno medio (ventana 5k)')\n",
    "plt.legend()\n",
    "plt.title('Aprendizaje Q-Learning')\n",
    "plt.show()"
   ]
  },
  {
   "cell_type": "markdown",
   "id": "2c83cf16",
   "metadata": {},
   "source": [
    "## 6. Mapa de calor de la política aprendida"
   ]
  },
  {
   "cell_type": "code",
   "execution_count": 44,
   "id": "4fae5e39",
   "metadata": {},
   "outputs": [
    {
     "data": {
      "image/png": "[encoded data removed]",
      "text/plain": [
       "<Figure size 1200x500 with 4 Axes>"
      ]
     },
     "metadata": {},
     "output_type": "display_data"
    }
   ],
   "source": [
    "# Crear la política sin As usable y con As usable\n",
    "policy_no_ace = np.zeros((22, 10), dtype=int)  # filas: player 0-21, cols: dealer 1-10 (10 columnas)\n",
    "policy_ace    = np.zeros((22, 10), dtype=int)\n",
    "\n",
    "# Creamos la política óptima para todos los estados\n",
    "for player in range(4, 22):  # Las sumas del jugador van de 4 a 21\n",
    "    for dealer in range(1, 11):  # La carta visible del dealer va de 1 a 10\n",
    "        for ace in [False, True]:  # Con o sin As usable\n",
    "            state = (player, dealer, ace)  # Estado: (suma del jugador, carta del dealer, tiene As usable)\n",
    "            \n",
    "            # Ajustar los índices para Q-values\n",
    "            player_index = player - 4  # Las sumas del jugador van de 4 a 21, mapeamos a 0 a 17\n",
    "            dealer_index = dealer - 1  # La carta visible del dealer va de 1 a 10, mapeamos a 0 a 9\n",
    "            ace_index = 1 if ace else 0  # As usable (True) es 1, (False) es 0\n",
    "            \n",
    "            # Elegimos la mejor acción (0: Stick, 1: Hit) basada en la tabla de Q-values\n",
    "            action = np.argmax(Q_values[player_index, dealer_index, ace_index])  # Ajuste para los índices de Q-values\n",
    "\n",
    "            # Asignamos la mejor acción en la política\n",
    "            if ace:\n",
    "                policy_ace[player, dealer-1] = action  # Ajustamos la columna para las cartas del dealer\n",
    "            else:\n",
    "                policy_no_ace[player, dealer-1] = action  # Ajustamos la columna para las cartas del dealer\n",
    "\n",
    "# Crear los gráficos con mapas de calor para las dos políticas\n",
    "fig, axes = plt.subplots(1, 2, figsize=(12, 5))\n",
    "\n",
    "# Mapa de calor para la política sin As usable\n",
    "im0 = axes[0].imshow(policy_no_ace[4:], origin='lower')\n",
    "axes[0].set_title('Sin As usable')\n",
    "axes[0].set_xlabel('Carta visible crupier')\n",
    "axes[0].set_ylabel('Suma jugador')\n",
    "axes[0].set_xticks(range(10))\n",
    "axes[0].set_xticklabels(range(1, 11))  # Rango de 1 a 10 para las cartas del dealer\n",
    "axes[0].set_yticks(range(0, 18))\n",
    "axes[0].set_yticklabels(range(4, 22))\n",
    "\n",
    "# Mapa de calor para la política con As usable\n",
    "im1 = axes[1].imshow(policy_ace[4:], origin='lower')\n",
    "axes[1].set_title('Con As usable')\n",
    "axes[1].set_xlabel('Carta visible crupier')\n",
    "axes[1].set_xticks(range(10))\n",
    "axes[1].set_xticklabels(range(1, 11))  # Rango de 1 a 10 para las cartas del dealer\n",
    "axes[1].set_yticks(range(0, 18))\n",
    "axes[1].set_yticklabels(range(4, 22))\n",
    "\n",
    "# Agregar barras de color\n",
    "plt.colorbar(im0, ax=axes[0], ticks=[0, 1], label='0=Stick, 1=Hit')\n",
    "plt.colorbar(im1, ax=axes[1], ticks=[0, 1], label='0=Stick, 1=Hit')\n",
    "\n",
    "# Ajustar la presentación\n",
    "plt.tight_layout()\n",
    "plt.show()\n"
   ]
  },
  {
   "cell_type": "markdown",
   "id": "804f59d4",
   "metadata": {},
   "source": [
    "## 7. Evaluación en 10 000 episodios"
   ]
  },
  {
   "cell_type": "code",
   "execution_count": 45,
   "id": "b0910eef",
   "metadata": {},
   "outputs": [
    {
     "name": "stdout",
     "output_type": "stream",
     "text": [
      "Ganancias medias: -0.139\n",
      "Porcentaje victorias: 38.86% | Empates: 8.35% | Derrotas: 52.79%\n"
     ]
    }
   ],
   "source": [
    "def evaluate(policy_fn, n_episodes=10_000):\n",
    "    wins = draws = losses = 0\n",
    "    total = 0\n",
    "    for _ in range(n_episodes):\n",
    "        state, _ = env.reset()\n",
    "        done = False\n",
    "        while not done:\n",
    "            # Elegir acción según la política óptima\n",
    "            action = policy_fn(state)\n",
    "            state, reward, terminated, truncated, _ = env.step(action)\n",
    "            done = terminated or truncated\n",
    "        total += reward\n",
    "        if reward > 0:\n",
    "            wins += 1\n",
    "        elif reward == 0:\n",
    "            draws += 1\n",
    "        else:\n",
    "            losses += 1\n",
    "    return wins/n_episodes, draws/n_episodes, losses/n_episodes, total/n_episodes\n",
    "\n",
    "# Función de política para Q-Learning\n",
    "policy_fn_best = lambda s: int(np.argmax(Q_values[s[0] - 4, s[1] - 1, s[2]]))  # Ajuste de índices para Q-values\n",
    "\n",
    "# Evaluar la política óptima aprendida por Q-Learning\n",
    "w, d, l, avg = evaluate(policy_fn_best)\n",
    "\n",
    "# Imprimir resultados de la evaluación\n",
    "print(f\"Ganancias medias: {avg:.3f}\")\n",
    "print(f\"Porcentaje victorias: {w*100:.2f}% | Empates: {d*100:.2f}% | Derrotas: {l*100:.2f}%\")\n"
   ]
  },
  {
   "cell_type": "markdown",
   "id": "c79affb8",
   "metadata": {},
   "source": [
    "## 8. Demostración visual de la política"
   ]
  },
  {
   "cell_type": "code",
   "execution_count": 52,
   "id": "5a1fb121",
   "metadata": {},
   "outputs": [
    {
     "name": "stdout",
     "output_type": "stream",
     "text": [
      "Recompensa episodio: 1.0\n"
     ]
    },
    {
     "data": {
      "image/png": "[encoded data removed]",
      "text/plain": [
       "<Figure size 1000x200 with 2 Axes>"
      ]
     },
     "metadata": {},
     "output_type": "display_data"
    }
   ],
   "source": [
    "import gymnasium as gym\n",
    "import matplotlib.pyplot as plt\n",
    "import utils  # Suponiendo que utils contiene la función 'run_and_render_episode'\n",
    "\n",
    "# Crear el entorno con renderizado\n",
    "env_vis = gym.make(\"Blackjack-v1\", render_mode=\"rgb_array\")\n",
    "\n",
    "# Ejecutar un episodio con la política óptima aprendida por Q-Learning\n",
    "frames, total_reward = utils.run_and_render_episode(env_vis, policy_fn_best)\n",
    "\n",
    "# Imprimir la recompensa del episodio\n",
    "print(\"Recompensa episodio:\", total_reward)\n",
    "\n",
    "# Mostrar los primeros 5 frames como imágenes estáticas\n",
    "plt.figure(figsize=(10, 2))\n",
    "for i in range(min(5, len(frames))):\n",
    "    plt.subplot(1, 5, i + 1)\n",
    "    plt.imshow(frames[i])\n",
    "    plt.axis('off')  # Desactivar los ejes\n",
    "plt.suptitle('Primeros estados del episodio')\n",
    "plt.show()\n"
   ]
  },
  {
   "cell_type": "markdown",
   "id": "5769c9f2",
   "metadata": {},
   "source": [
    "## 9. Conclusiones\n",
    "\n",
    "Convergencia del Q-Learning:\n",
    "El algoritmo de Q-Learning muestra una convergencia relativamente estable a lo largo de los episodios, aunque con una fase inicial de fluctuación en las recompensas, lo que se debe al proceso de exploración. A medida que el agente avanza en los episodios, el retorno medio converge a un valor cercano a -0.11 (según el gráfico de la ventana de 5000 episodios). Esta estabilización indica que el agente está aprendiendo a tomar decisiones de manera más consistente.\n",
    "\n",
    "Rendimiento:\n",
    "\n",
    "Ganancias medias: El rendimiento promedio del agente es de -0.139 por episodio, lo que indica que, aunque está mejorando, aún no logra una política completamente óptima.\n",
    "\n",
    "Porcentaje de victorias: El agente ha ganado el 38.86% de las veces, lo cual es un rendimiento modesto. Sin embargo, todavía no ha aprendido una política que sea consistentemente efectiva.\n",
    "\n",
    "Empates: El 8.35% de los episodios terminaron en empate, lo que sugiere que, en algunos casos, el agente consigue una igualdad en las condiciones del juego.\n",
    "\n",
    "Derrotas: Un 52.79% de los episodios fueron derrotas, lo que resalta que el agente aún no ha alcanzado una política que le permita superar consistentemente al dealer.\n",
    "\n",
    "Exploración vs Explotación (ε):\n",
    "\n",
    "No se ha experimentado con diferentes valores de ε en este caso. Sin embargo, ε es claramente un hiperparámetro importante que controla el equilibrio entre la exploración y la explotación del agente. Un valor de ε alto al principio permite al agente explorar diferentes acciones, mientras que un valor de ε bajo al final favorece la explotación de lo aprendido. Ajustar este parámetro podría mejorar la tasa de convergencia y la eficacia de la política aprendida.\n",
    "\n",
    "Áreas de mejora:\n",
    "\n",
    "Optimización de parámetros: Sería interesante experimentar con la tasa de aprendizaje (α) y el factor de descuento (γ) para observar cómo afectan al rendimiento y a la estabilidad de la política."
   ]
  }
 ],
 "metadata": {
  "kernelspec": {
   "display_name": "RL",
   "language": "python",
   "name": "python3"
  },
  "language_info": {
   "codemirror_mode": {
    "name": "ipython",
    "version": 3
   },
   "file_extension": ".py",
   "mimetype": "text/x-python",
   "name": "python",
   "nbconvert_exporter": "python",
   "pygments_lexer": "ipython3",
   "version": "3.11.11"
  }
 },
 "nbformat": 4,
 "nbformat_minor": 5
}
